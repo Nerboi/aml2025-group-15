{
 "cells": [
  {
   "cell_type": "code",
   "execution_count": 1,
   "id": "8c616a55",
   "metadata": {},
   "outputs": [],
   "source": [
    "import sys\n",
    "import pandas as pd\n",
    "sys.path.append(\"../src\")\n",
    "\n",
    "from data.fetch_weather_forecast import get_historical_forecast"
   ]
  },
  {
   "cell_type": "code",
   "execution_count": 4,
   "id": "72657c82",
   "metadata": {},
   "outputs": [],
   "source": [
    "start_date = \"2025-06-25\"\n",
    "end_date = \"2025-07-02\"\n",
    "\n",
    "df_weather_forecast = get_historical_forecast(52.4931, 5.4264, start_date, end_date)\n",
    "df_weather_forecast.to_csv(\"../data/weather_forecast.csv\", index=False)"
   ]
  }
 ],
 "metadata": {
  "kernelspec": {
   "display_name": ".venv",
   "language": "python",
   "name": "python3"
  },
  "language_info": {
   "codemirror_mode": {
    "name": "ipython",
    "version": 3
   },
   "file_extension": ".py",
   "mimetype": "text/x-python",
   "name": "python",
   "nbconvert_exporter": "python",
   "pygments_lexer": "ipython3",
   "version": "3.12.4"
  }
 },
 "nbformat": 4,
 "nbformat_minor": 5
}
