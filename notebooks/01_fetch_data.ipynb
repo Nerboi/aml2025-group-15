{
 "cells": [
  {
   "cell_type": "code",
   "execution_count": 22,
   "id": "5cc85769",
   "metadata": {},
   "outputs": [],
   "source": [
    "import sys\n",
    "import pandas as pd\n",
    "sys.path.append(\"../src\")\n",
    "\n",
    "from data.merge_all_sources import merge_all_sources"
   ]
  },
  {
   "cell_type": "code",
   "execution_count": 23,
   "id": "11707227",
   "metadata": {},
   "outputs": [
    {
     "name": "stdout",
     "output_type": "stream",
     "text": [
      "No data for fossil_brown_coal_lignite (B02), skipping.\n",
      "No data for fossil_coal_derived_gas (B03), skipping.\n",
      "No data for fossil_oil (B06), skipping.\n",
      "No data for fossil_oil_shale (B07), skipping.\n",
      "No data for fossil_peat (B08), skipping.\n",
      "No data for geothermal (B09), skipping.\n",
      "No data for hydro_pumped_storage (B10), skipping.\n",
      "No data for hydro_water_reservoir (B12), skipping.\n",
      "No data for marine (B13), skipping.\n",
      "No data for other_renewable (B15), skipping.\n",
      "No data for energy_storage (B25), skipping.\n",
      "No data for fossil_brown_coal_lignite (B02), skipping.\n",
      "No data for fossil_coal_derived_gas (B03), skipping.\n",
      "No data for fossil_oil (B06), skipping.\n",
      "No data for fossil_oil_shale (B07), skipping.\n",
      "No data for fossil_peat (B08), skipping.\n",
      "No data for geothermal (B09), skipping.\n",
      "No data for hydro_pumped_storage (B10), skipping.\n",
      "No data for hydro_water_reservoir (B12), skipping.\n",
      "No data for marine (B13), skipping.\n",
      "No data for other_renewable (B15), skipping.\n",
      "No data for energy_storage (B25), skipping.\n",
      "No data for fossil_brown_coal_lignite (B02), skipping.\n",
      "No data for fossil_coal_derived_gas (B03), skipping.\n",
      "No data for fossil_oil (B06), skipping.\n",
      "No data for fossil_oil_shale (B07), skipping.\n",
      "No data for fossil_peat (B08), skipping.\n",
      "No data for geothermal (B09), skipping.\n",
      "No data for hydro_pumped_storage (B10), skipping.\n",
      "No data for hydro_water_reservoir (B12), skipping.\n",
      "No data for marine (B13), skipping.\n",
      "No data for other_renewable (B15), skipping.\n",
      "No data for energy_storage (B25), skipping.\n"
     ]
    }
   ],
   "source": [
    "start_date1 = \"202206300000\"\n",
    "end_date1 = \"202306300000\"\n",
    "\n",
    "start_date2 = \"202306300000\"\n",
    "end_date2 = \"202406300000\"\n",
    "\n",
    "start_date3 = \"202406300000\"\n",
    "end_date3 = \"202506300000\"\n",
    "\n",
    "merged_data1 = merge_all_sources(start_date1, end_date1)\n",
    "merged_data2 = merge_all_sources(start_date2, end_date2)\n",
    "merged_data3 = merge_all_sources(start_date3, end_date3)"
   ]
  },
  {
   "cell_type": "code",
   "execution_count": 30,
   "id": "3ef093ab",
   "metadata": {},
   "outputs": [],
   "source": [
    "merged_data = pd.concat([merged_data1, merged_data2, merged_data3], ignore_index=True)"
   ]
  },
  {
   "cell_type": "code",
   "execution_count": 33,
   "id": "b68263e0",
   "metadata": {},
   "outputs": [],
   "source": [
    "merged_data.to_csv(\"../data/merged_data.csv\", index=False)"
   ]
  }
 ],
 "metadata": {
  "kernelspec": {
   "display_name": ".venv",
   "language": "python",
   "name": "python3"
  },
  "language_info": {
   "codemirror_mode": {
    "name": "ipython",
    "version": 3
   },
   "file_extension": ".py",
   "mimetype": "text/x-python",
   "name": "python",
   "nbconvert_exporter": "python",
   "pygments_lexer": "ipython3",
   "version": "3.12.4"
  }
 },
 "nbformat": 4,
 "nbformat_minor": 5
}
